{
 "cells": [
  {
   "cell_type": "code",
   "execution_count": null,
   "id": "initial_id",
   "metadata": {
    "collapsed": true
   },
   "outputs": [],
   "source": [
    "import requests\n",
    "import main"
   ]
  },
  {
   "cell_type": "code",
   "execution_count": 4,
   "outputs": [],
   "source": [
    "session = requests.Session()"
   ],
   "metadata": {
    "collapsed": false,
    "ExecuteTime": {
     "end_time": "2024-05-10T13:38:14.743574700Z",
     "start_time": "2024-05-10T13:38:14.699916700Z"
    }
   },
   "id": "e067275b88163867"
  },
  {
   "cell_type": "code",
   "execution_count": 5,
   "outputs": [],
   "source": [
    "instrument = 'EUR_USD'\n",
    "count = 10\n",
    "granularity = 'H1'"
   ],
   "metadata": {
    "collapsed": false,
    "ExecuteTime": {
     "end_time": "2024-05-10T13:38:14.759085100Z",
     "start_time": "2024-05-10T13:38:14.715037900Z"
    }
   },
   "id": "d4ba864a65a8e607"
  },
  {
   "cell_type": "code",
   "execution_count": 6,
   "outputs": [],
   "source": [
    "url = f'{main.OANDA_URL}/instruments/{instrument}/candles'\n",
    "params = dict(\n",
    "    count=count,\n",
    "    granularity=granularity,\n",
    "    price = 'MBA'\n",
    ")"
   ],
   "metadata": {
    "collapsed": false,
    "ExecuteTime": {
     "end_time": "2024-05-10T13:38:14.759085100Z",
     "start_time": "2024-05-10T13:38:14.731062500Z"
    }
   },
   "id": "931417cbff84ee1f"
  },
  {
   "cell_type": "code",
   "execution_count": 7,
   "outputs": [
    {
     "data": {
      "text/plain": "{'instrument': 'EUR_USD',\n 'granularity': 'H1',\n 'candles': [{'complete': True,\n   'volume': 508,\n   'time': '2024-05-10T04:00:00.000000000Z',\n   'bid': {'o': '1.07755', 'h': '1.07763', 'l': '1.07732', 'c': '1.07734'},\n   'mid': {'o': '1.07762', 'h': '1.07770', 'l': '1.07740', 'c': '1.07741'},\n   'ask': {'o': '1.07769', 'h': '1.07777', 'l': '1.07747', 'c': '1.07748'}},\n  {'complete': True,\n   'volume': 977,\n   'time': '2024-05-10T05:00:00.000000000Z',\n   'bid': {'o': '1.07733', 'h': '1.07763', 'l': '1.07731', 'c': '1.07749'},\n   'mid': {'o': '1.07740', 'h': '1.07770', 'l': '1.07738', 'c': '1.07756'},\n   'ask': {'o': '1.07747', 'h': '1.07778', 'l': '1.07746', 'c': '1.07763'}},\n  {'complete': True,\n   'volume': 2694,\n   'time': '2024-05-10T06:00:00.000000000Z',\n   'bid': {'o': '1.07746', 'h': '1.07826', 'l': '1.07709', 'c': '1.07763'},\n   'mid': {'o': '1.07753', 'h': '1.07834', 'l': '1.07716', 'c': '1.07770'},\n   'ask': {'o': '1.07760', 'h': '1.07842', 'l': '1.07723', 'c': '1.07777'}},\n  {'complete': True,\n   'volume': 3719,\n   'time': '2024-05-10T07:00:00.000000000Z',\n   'bid': {'o': '1.07765', 'h': '1.07834', 'l': '1.07754', 'c': '1.07804'},\n   'mid': {'o': '1.07772', 'h': '1.07842', 'l': '1.07762', 'c': '1.07812'},\n   'ask': {'o': '1.07779', 'h': '1.07850', 'l': '1.07770', 'c': '1.07819'}},\n  {'complete': True,\n   'volume': 3070,\n   'time': '2024-05-10T08:00:00.000000000Z',\n   'bid': {'o': '1.07804', 'h': '1.07861', 'l': '1.07765', 'c': '1.07800'},\n   'mid': {'o': '1.07811', 'h': '1.07868', 'l': '1.07772', 'c': '1.07807'},\n   'ask': {'o': '1.07818', 'h': '1.07875', 'l': '1.07780', 'c': '1.07814'}},\n  {'complete': True,\n   'volume': 2429,\n   'time': '2024-05-10T09:00:00.000000000Z',\n   'bid': {'o': '1.07803', 'h': '1.07855', 'l': '1.07786', 'c': '1.07791'},\n   'mid': {'o': '1.07810', 'h': '1.07862', 'l': '1.07794', 'c': '1.07798'},\n   'ask': {'o': '1.07817', 'h': '1.07870', 'l': '1.07801', 'c': '1.07806'}},\n  {'complete': True,\n   'volume': 2107,\n   'time': '2024-05-10T10:00:00.000000000Z',\n   'bid': {'o': '1.07790', 'h': '1.07813', 'l': '1.07748', 'c': '1.07778'},\n   'mid': {'o': '1.07797', 'h': '1.07820', 'l': '1.07756', 'c': '1.07785'},\n   'ask': {'o': '1.07804', 'h': '1.07827', 'l': '1.07763', 'c': '1.07792'}},\n  {'complete': True,\n   'volume': 2172,\n   'time': '2024-05-10T11:00:00.000000000Z',\n   'bid': {'o': '1.07777', 'h': '1.07801', 'l': '1.07746', 'c': '1.07787'},\n   'mid': {'o': '1.07784', 'h': '1.07808', 'l': '1.07754', 'c': '1.07794'},\n   'ask': {'o': '1.07792', 'h': '1.07815', 'l': '1.07761', 'c': '1.07801'}},\n  {'complete': True,\n   'volume': 3362,\n   'time': '2024-05-10T12:00:00.000000000Z',\n   'bid': {'o': '1.07786', 'h': '1.07807', 'l': '1.07656', 'c': '1.07695'},\n   'mid': {'o': '1.07794', 'h': '1.07814', 'l': '1.07663', 'c': '1.07702'},\n   'ask': {'o': '1.07801', 'h': '1.07821', 'l': '1.07670', 'c': '1.07709'}},\n  {'complete': False,\n   'volume': 2055,\n   'time': '2024-05-10T13:00:00.000000000Z',\n   'bid': {'o': '1.07694', 'h': '1.07804', 'l': '1.07690', 'c': '1.07787'},\n   'mid': {'o': '1.07701', 'h': '1.07811', 'l': '1.07697', 'c': '1.07794'},\n   'ask': {'o': '1.07708', 'h': '1.07818', 'l': '1.07704', 'c': '1.07802'}}]}"
     },
     "execution_count": 7,
     "metadata": {},
     "output_type": "execute_result"
    }
   ],
   "source": [
    "response = session.get(url,params=params, headers=main.SECURE_HEADER)\n",
    "response.json()"
   ],
   "metadata": {
    "collapsed": false,
    "ExecuteTime": {
     "end_time": "2024-05-10T13:38:15.039955600Z",
     "start_time": "2024-05-10T13:38:14.745572600Z"
    }
   },
   "id": "63dbdf8eb62e7d8c"
  },
  {
   "cell_type": "code",
   "execution_count": 7,
   "outputs": [],
   "source": [],
   "metadata": {
    "collapsed": false,
    "ExecuteTime": {
     "end_time": "2024-05-10T13:38:15.085865500Z",
     "start_time": "2024-05-10T13:38:15.040961100Z"
    }
   },
   "id": "63b54b8bbb418e6f"
  },
  {
   "cell_type": "code",
   "execution_count": 7,
   "outputs": [],
   "source": [],
   "metadata": {
    "collapsed": false,
    "ExecuteTime": {
     "end_time": "2024-05-10T13:38:15.093998500Z",
     "start_time": "2024-05-10T13:38:15.055865600Z"
    }
   },
   "id": "e9dac4abde9a24d8"
  }
 ],
 "metadata": {
  "kernelspec": {
   "display_name": "Python 3",
   "language": "python",
   "name": "python3"
  },
  "language_info": {
   "codemirror_mode": {
    "name": "ipython",
    "version": 2
   },
   "file_extension": ".py",
   "mimetype": "text/x-python",
   "name": "python",
   "nbconvert_exporter": "python",
   "pygments_lexer": "ipython2",
   "version": "2.7.6"
  }
 },
 "nbformat": 4,
 "nbformat_minor": 5
}
